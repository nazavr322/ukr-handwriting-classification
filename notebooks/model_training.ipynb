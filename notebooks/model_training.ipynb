{
 "cells": [
  {
   "cell_type": "code",
   "execution_count": 3,
   "id": "b5121aa0",
   "metadata": {},
   "outputs": [
    {
     "name": "stdout",
     "output_type": "stream",
     "text": [
      "/home/nazar/Projects/ukrainian_handwriting\n",
      "/home/nazar/Projects/ukrainian_handwriting/notebooks\n",
      "The autoreload extension is already loaded. To reload it, use:\n",
      "  %reload_ext autoreload\n"
     ]
    }
   ],
   "source": [
    "import os\n",
    "\n",
    "import torch\n",
    "import torch.nn as nn\n",
    "import torch.optim as optim\n",
    "from torch.utils.data import SubsetRandomSampler, DataLoader\n",
    "from torchvision import transforms as tf\n",
    "\n",
    "import numpy as np\n",
    "import pandas as pd\n",
    "import matplotlib.pyplot as plt\n",
    "from PIL import Image\n",
    "\n",
    "%cd ../\n",
    "from src.data.datasets import HandwritingDataset\n",
    "from src.models import HandwritingClassifier\n",
    "%cd notebooks/\n",
    "\n",
    "%matplotlib inline\n",
    "%load_ext autoreload\n",
    "%autoreload 2"
   ]
  },
  {
   "cell_type": "code",
   "execution_count": 2,
   "id": "61505ebe",
   "metadata": {},
   "outputs": [],
   "source": [
    "device = torch.device(\"cuda:0\")"
   ]
  },
  {
   "cell_type": "markdown",
   "id": "082de28d",
   "metadata": {},
   "source": [
    "# Loading train/test/val"
   ]
  },
  {
   "cell_type": "code",
   "execution_count": 3,
   "id": "9eb27cc8",
   "metadata": {},
   "outputs": [],
   "source": [
    "MEAN = HandwritingClassifier._mean\n",
    "STD = HandwritingClassifier._std"
   ]
  },
  {
   "cell_type": "code",
   "execution_count": 5,
   "id": "4becdbe2",
   "metadata": {},
   "outputs": [],
   "source": [
    "tfs = tf.Compose([\n",
    "    tf.Resize((28, 28)),\n",
    "    tf.ToTensor(),\n",
    "    tf.Normalize(mean=MEAN, std=STD)\n",
    "])"
   ]
  },
  {
   "cell_type": "code",
   "execution_count": 6,
   "id": "effea84b",
   "metadata": {},
   "outputs": [
    {
     "name": "stdout",
     "output_type": "stream",
     "text": [
      "Number of samples in training data: 981\n",
      "Number of samples in test data: 100\n"
     ]
    }
   ],
   "source": [
    "train_data = HandwritingDataset(\n",
    "    '../data/processed/train_data.csv',\n",
    "    transforms=tfs\n",
    ")\n",
    "\n",
    "test_data = HandwritingDataset(\n",
    "    '../data/processed/test_data.csv',\n",
    "    transforms=tf.Compose([\n",
    "        tf.Resize((28, 28)),\n",
    "        tf.ToTensor(),\n",
    "        tf.Normalize(mean=MEAN, std=STD)\n",
    "    ])\n",
    ")\n",
    "\n",
    "print('Number of samples in training data:', len(train_data))\n",
    "print('Number of samples in test data:', len(test_data))"
   ]
  },
  {
   "cell_type": "code",
   "execution_count": 7,
   "id": "c4d9a98b",
   "metadata": {},
   "outputs": [],
   "source": [
    "BATCH_SIZE = 64\n",
    "VAL_SIZE = 100\n",
    "\n",
    "indices = list(range(len(train_data)))\n",
    "np.random.seed(42)\n",
    "np.random.shuffle(indices)\n",
    "train_indices, val_indices = indices[VAL_SIZE:], indices[:VAL_SIZE]\n",
    "\n",
    "train_sampler = SubsetRandomSampler(train_indices)\n",
    "val_sampler = SubsetRandomSampler(val_indices)\n",
    "\n",
    "train_loader = DataLoader(train_data, BATCH_SIZE, sampler=train_sampler)\n",
    "val_loader = DataLoader(train_data, sampler=val_sampler)\n",
    "test_loader = DataLoader(test_data)"
   ]
  },
  {
   "cell_type": "markdown",
   "id": "e95eb986",
   "metadata": {},
   "source": [
    "# Functions for training"
   ]
  },
  {
   "cell_type": "code",
   "execution_count": 8,
   "id": "f60df827",
   "metadata": {},
   "outputs": [],
   "source": [
    "def compute_accuracy(model, loader):\n",
    "    model.eval()\n",
    "    correct_samples = 0\n",
    "    total_samples = 0\n",
    "    for i, (x, y, _) in enumerate(loader):\n",
    "        x_gpu = x.to(device)\n",
    "        y_gpu = y.to(device)\n",
    "        prediction = torch.argmax(model(x_gpu), 1)\n",
    "        \n",
    "        correct_samples += torch.sum(prediction == y_gpu)\n",
    "        total_samples += y.shape[0]\n",
    "    return float(correct_samples) / total_samples\n",
    "\n",
    "def train_model(model, train_loader, val_loader, optimizer, loss, num_epochs, scheduler=None):\n",
    "    loss_history = []\n",
    "    train_history = []\n",
    "    val_history = []\n",
    "    for epoch in range(num_epochs):\n",
    "        model.train()\n",
    "        \n",
    "        loss_acum = 0\n",
    "        total_samples = 0\n",
    "        correct_samples = 0\n",
    "        for i, (x, y, _) in enumerate(train_loader):\n",
    "            x_gpu = x.to(device)\n",
    "            y_gpu = y.to(device)\n",
    "            prediction = model(x_gpu)\n",
    "            loss_value = loss(prediction, y_gpu)\n",
    "            optimizer.zero_grad()\n",
    "            loss_value.backward()\n",
    "            optimizer.step()\n",
    "            \n",
    "            indices = torch.argmax(prediction, 1)\n",
    "            correct_samples += torch.sum(indices == y_gpu)\n",
    "            total_samples += y.shape[0]\n",
    "            loss_acum += loss_value\n",
    "        \n",
    "        average_loss = loss_acum / i\n",
    "        train_accuracy = float(correct_samples) / total_samples\n",
    "        val_accuracy = compute_accuracy(model, val_loader)\n",
    "        if scheduler:\n",
    "            scheduler.step(val_accuracy)\n",
    "        \n",
    "        loss_history.append(float(average_loss))\n",
    "        train_history.append(train_accuracy)\n",
    "        val_history.append(val_accuracy)\n",
    "        \n",
    "        print(f'{epoch + 1}. Loss = {average_loss}; Train accuracy = {train_accuracy}; Val accuracy = {val_accuracy}')\n",
    "    return loss_history, train_history, val_history\n",
    "\n",
    "def plot_history(loss_h, train_h, val_h) -> None:\n",
    "    fig, ax = plt.subplots(2, 1, figsize=(15, 7))\n",
    "    ax[0].set_title('Loss')\n",
    "    ax[0].plot(loss_h)\n",
    "    ax[1].set_title('Train/validation accuracy')\n",
    "    ax[1].plot(train_h, label='Train')\n",
    "    ax[1].plot(val_h, label='Validation')\n",
    "    ax[1].legend();"
   ]
  },
  {
   "cell_type": "markdown",
   "id": "9620130a",
   "metadata": {},
   "source": [
    "# Model training"
   ]
  },
  {
   "cell_type": "code",
   "execution_count": 131,
   "id": "888fbc3a",
   "metadata": {},
   "outputs": [],
   "source": [
    "LR = 0.001\n",
    "NUM_EPOCHS = 10\n",
    "REG=0.01\n",
    "\n",
    "model = HandwritingClassifier()\n",
    "model.load_state_dict(torch.load('../models/mnist_model.pt'))\n",
    "model.type(torch.cuda.FloatTensor)\n",
    "model.to(device)\n",
    "\n",
    "loss = nn.CrossEntropyLoss().type(torch.cuda.FloatTensor)\n",
    "optimizer = optim.Adam(model.parameters(), lr=LR, weight_decay=REG)\n",
    "scheduler = optim.lr_scheduler.ReduceLROnPlateau(optimizer, mode='max', patience=3)"
   ]
  },
  {
   "cell_type": "code",
   "execution_count": null,
   "id": "895d037b",
   "metadata": {},
   "outputs": [],
   "source": [
    "# 1. Loss = 2.5787150859832764; Train accuracy = 0.29511918274687854; Val accuracy = 0.3\n",
    "# 2. Loss = 1.2427092790603638; Train accuracy = 0.6685584562996595; Val accuracy = 0.49\n",
    "# 3. Loss = 0.8950065970420837; Train accuracy = 0.7843359818388195; Val accuracy = 0.61\n",
    "# 4. Loss = 0.7662808299064636; Train accuracy = 0.8263337116912599; Val accuracy = 0.61\n",
    "# 5. Loss = 0.6577185988426208; Train accuracy = 0.8444948921679909; Val accuracy = 0.46\n",
    "# 6. Loss = 0.5490370392799377; Train accuracy = 0.8694665153234961; Val accuracy = 0.71\n",
    "# 7. Loss = 0.5908510684967041; Train accuracy = 0.8728717366628831; Val accuracy = 0.8\n",
    "# 8. Loss = 0.4500415325164795; Train accuracy = 0.9035187287173666; Val accuracy = 0.59\n",
    "# 9. Loss = 0.49290400743484497; Train accuracy = 0.8967082860385925; Val accuracy = 0.74\n",
    "# 10. Loss = 0.48112282156944275; Train accuracy = 0.8967082860385925; Val accuracy = 0.72\n",
    "# 11. Loss = 0.3148810863494873; Train accuracy = 0.9545970488081725; Val accuracy = 0.92\n",
    "# 12. Loss = 0.17062339186668396; Train accuracy = 0.9931895573212258; Val accuracy = 0.93\n",
    "# 13. Loss = 0.1413472443819046; Train accuracy = 0.9977298524404086; Val accuracy = 0.93\n",
    "# 14. Loss = 0.11812756210565567; Train accuracy = 1.0; Val accuracy = 0.92\n",
    "# 15. Loss = 0.10972975939512253; Train accuracy = 1.0; Val accuracy = 0.94"
   ]
  },
  {
   "cell_type": "code",
   "execution_count": 132,
   "id": "1bdc3277",
   "metadata": {},
   "outputs": [
    {
     "name": "stdout",
     "output_type": "stream",
     "text": [
      "1. Loss = 3.3541314601898193; Train accuracy = 0.16685584562996594; Val accuracy = 0.18\n",
      "2. Loss = 2.673945665359497; Train accuracy = 0.3337116912599319; Val accuracy = 0.32\n",
      "3. Loss = 2.1763553619384766; Train accuracy = 0.49148694665153236; Val accuracy = 0.51\n",
      "4. Loss = 1.7543823719024658; Train accuracy = 0.6027241770715096; Val accuracy = 0.6\n",
      "5. Loss = 1.4586721658706665; Train accuracy = 0.6583427922814983; Val accuracy = 0.56\n",
      "6. Loss = 1.2466344833374023; Train accuracy = 0.7105561861520999; Val accuracy = 0.71\n",
      "7. Loss = 1.0748703479766846; Train accuracy = 0.7729852440408627; Val accuracy = 0.77\n",
      "8. Loss = 0.8912842869758606; Train accuracy = 0.8320090805902384; Val accuracy = 0.71\n",
      "9. Loss = 0.7911978960037231; Train accuracy = 0.8535754824063564; Val accuracy = 0.78\n",
      "10. Loss = 0.7216123938560486; Train accuracy = 0.8649262202043133; Val accuracy = 0.81\n",
      "11. Loss = 0.6434032320976257; Train accuracy = 0.8785471055618616; Val accuracy = 0.79\n",
      "12. Loss = 0.5947585701942444; Train accuracy = 0.8887627695800226; Val accuracy = 0.88\n",
      "13. Loss = 0.5778247117996216; Train accuracy = 0.8978433598183881; Val accuracy = 0.85\n",
      "14. Loss = 0.5089338421821594; Train accuracy = 0.9125993189557321; Val accuracy = 0.85\n",
      "15. Loss = 0.4835059940814972; Train accuracy = 0.9148694665153235; Val accuracy = 0.85\n",
      "16. Loss = 0.46056514978408813; Train accuracy = 0.9125993189557321; Val accuracy = 0.86\n",
      "17. Loss = 0.42755913734436035; Train accuracy = 0.9353007945516458; Val accuracy = 0.8\n",
      "18. Loss = 0.418908953666687; Train accuracy = 0.9307604994324631; Val accuracy = 0.89\n",
      "19. Loss = 0.3975277841091156; Train accuracy = 0.9477866061293984; Val accuracy = 0.87\n",
      "20. Loss = 0.35805121064186096; Train accuracy = 0.9534619750283768; Val accuracy = 0.84\n",
      "21. Loss = 0.363570898771286; Train accuracy = 0.9500567536889898; Val accuracy = 0.9\n",
      "22. Loss = 0.32397380471229553; Train accuracy = 0.9568671963677639; Val accuracy = 0.85\n",
      "23. Loss = 0.33960607647895813; Train accuracy = 0.9557321225879682; Val accuracy = 0.86\n",
      "24. Loss = 0.32944750785827637; Train accuracy = 0.9523269012485811; Val accuracy = 0.89\n",
      "25. Loss = 0.3106679916381836; Train accuracy = 0.9716231555051078; Val accuracy = 0.88\n",
      "26. Loss = 0.3075602054595947; Train accuracy = 0.9580022701475596; Val accuracy = 0.83\n",
      "27. Loss = 0.28571027517318726; Train accuracy = 0.9591373439273553; Val accuracy = 0.86\n",
      "28. Loss = 0.2822149693965912; Train accuracy = 0.9568671963677639; Val accuracy = 0.86\n",
      "29. Loss = 0.28664878010749817; Train accuracy = 0.9511918274687855; Val accuracy = 0.89\n",
      "30. Loss = 0.26337334513664246; Train accuracy = 0.9716231555051078; Val accuracy = 0.89\n",
      "31. Loss = 0.24919964373111725; Train accuracy = 0.9761634506242906; Val accuracy = 0.87\n",
      "32. Loss = 0.27692967653274536; Train accuracy = 0.963677639046538; Val accuracy = 0.85\n",
      "33. Loss = 0.26482561230659485; Train accuracy = 0.9750283768444948; Val accuracy = 0.86\n",
      "34. Loss = 0.2686852812767029; Train accuracy = 0.9704880817253121; Val accuracy = 0.85\n",
      "35. Loss = 0.27496466040611267; Train accuracy = 0.9648127128263337; Val accuracy = 0.86\n",
      "36. Loss = 0.24311819672584534; Train accuracy = 0.9682179341657208; Val accuracy = 0.89\n",
      "37. Loss = 0.25817638635635376; Train accuracy = 0.9682179341657208; Val accuracy = 0.88\n",
      "38. Loss = 0.2539246082305908; Train accuracy = 0.9738933030646992; Val accuracy = 0.85\n",
      "39. Loss = 0.25034332275390625; Train accuracy = 0.9738933030646992; Val accuracy = 0.86\n",
      "40. Loss = 0.2576133608818054; Train accuracy = 0.9716231555051078; Val accuracy = 0.85\n",
      "41. Loss = 0.2729376256465912; Train accuracy = 0.9761634506242906; Val accuracy = 0.9\n",
      "42. Loss = 0.24805428087711334; Train accuracy = 0.9761634506242906; Val accuracy = 0.87\n",
      "43. Loss = 0.25140881538391113; Train accuracy = 0.9750283768444948; Val accuracy = 0.85\n",
      "44. Loss = 0.24218927323818207; Train accuracy = 0.981838819523269; Val accuracy = 0.89\n",
      "45. Loss = 0.23650610446929932; Train accuracy = 0.9727582292849035; Val accuracy = 0.89\n",
      "46. Loss = 0.22633247077465057; Train accuracy = 0.9841089670828603; Val accuracy = 0.89\n",
      "47. Loss = 0.23258259892463684; Train accuracy = 0.9772985244040863; Val accuracy = 0.86\n",
      "48. Loss = 0.2373495250940323; Train accuracy = 0.9750283768444948; Val accuracy = 0.87\n",
      "49. Loss = 0.22000320255756378; Train accuracy = 0.9829738933030647; Val accuracy = 0.9\n",
      "50. Loss = 0.2167873978614807; Train accuracy = 0.985244040862656; Val accuracy = 0.89\n"
     ]
    }
   ],
   "source": [
    "loss_history, train_history, val_history = train_model(model, train_loader, val_loader, optimizer, loss, NUM_EPOCHS)"
   ]
  },
  {
   "cell_type": "code",
   "execution_count": 133,
   "id": "151dc174",
   "metadata": {},
   "outputs": [
    {
     "data": {
      "image/png": "[encoded data removed]",
      "text/plain": [
       "<Figure size 1080x504 with 2 Axes>"
      ]
     },
     "metadata": {
      "needs_background": "light"
     },
     "output_type": "display_data"
    }
   ],
   "source": [
    "plot_history(loss_history, train_history, val_history)"
   ]
  },
  {
   "cell_type": "code",
   "execution_count": 134,
   "id": "ba80e625",
   "metadata": {},
   "outputs": [],
   "source": [
    "test_acc = compute_accuracy(model, test_loader)"
   ]
  },
  {
   "cell_type": "code",
   "execution_count": 135,
   "id": "425f76d5",
   "metadata": {},
   "outputs": [
    {
     "data": {
      "text/plain": [
       "0.81"
      ]
     },
     "execution_count": 135,
     "metadata": {},
     "output_type": "execute_result"
    }
   ],
   "source": [
    "test_acc"
   ]
  }
 ],
 "metadata": {
  "kernelspec": {
   "display_name": "Python 3 (ipykernel)",
   "language": "python",
   "name": "python3"
  },
  "language_info": {
   "codemirror_mode": {
    "name": "ipython",
    "version": 3
   },
   "file_extension": ".py",
   "mimetype": "text/x-python",
   "name": "python",
   "nbconvert_exporter": "python",
   "pygments_lexer": "ipython3",
   "version": "3.9.13"
  }
 },
 "nbformat": 4,
 "nbformat_minor": 5
}
