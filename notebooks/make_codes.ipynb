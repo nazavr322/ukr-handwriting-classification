{
 "cells": [
  {
   "cell_type": "code",
   "execution_count": 1,
   "id": "decfcdf1",
   "metadata": {},
   "outputs": [],
   "source": [
    "import pandas as pd"
   ]
  },
  {
   "cell_type": "code",
   "execution_count": 20,
   "id": "d67a9f6d",
   "metadata": {},
   "outputs": [],
   "source": [
    "df = pd.read_csv('../data/interim/all_v3.csv')"
   ]
  },
  {
   "cell_type": "code",
   "execution_count": 22,
   "id": "d377c6be",
   "metadata": {},
   "outputs": [],
   "source": [
    "df.label = pd.Categorical(df.label, df.label.unique())"
   ]
  },
  {
   "cell_type": "code",
   "execution_count": 23,
   "id": "dea8d449",
   "metadata": {},
   "outputs": [],
   "source": [
    "df.insert(1, 'lbl_code', df.label.cat.codes)"
   ]
  },
  {
   "cell_type": "code",
   "execution_count": 24,
   "id": "931c51bb",
   "metadata": {},
   "outputs": [],
   "source": [
    "df.to_csv('../data/interim/all_v4.csv', index=False)"
   ]
  },
  {
   "cell_type": "code",
   "execution_count": 25,
   "id": "fdaadd22",
   "metadata": {},
   "outputs": [],
   "source": [
    "new_df = pd.read_csv('../data/interim/all_v4.csv')"
   ]
  },
  {
   "cell_type": "code",
   "execution_count": 26,
   "id": "dd36ad27",
   "metadata": {},
   "outputs": [
    {
     "data": {
      "text/html": [
       "<div>\n",
       "<style scoped>\n",
       "    .dataframe tbody tr th:only-of-type {\n",
       "        vertical-align: middle;\n",
       "    }\n",
       "\n",
       "    .dataframe tbody tr th {\n",
       "        vertical-align: top;\n",
       "    }\n",
       "\n",
       "    .dataframe thead th {\n",
       "        text-align: right;\n",
       "    }\n",
       "</style>\n",
       "<table border=\"1\" class=\"dataframe\">\n",
       "  <thead>\n",
       "    <tr style=\"text-align: right;\">\n",
       "      <th></th>\n",
       "      <th>label</th>\n",
       "      <th>lbl_code</th>\n",
       "      <th>is_uppercase</th>\n",
       "      <th>filename</th>\n",
       "    </tr>\n",
       "  </thead>\n",
       "  <tbody>\n",
       "    <tr>\n",
       "      <th>0</th>\n",
       "      <td>0</td>\n",
       "      <td>0</td>\n",
       "      <td>False</td>\n",
       "      <td>glyphs/0-0.png</td>\n",
       "    </tr>\n",
       "    <tr>\n",
       "      <th>1</th>\n",
       "      <td>0</td>\n",
       "      <td>0</td>\n",
       "      <td>False</td>\n",
       "      <td>glyphs/0-1.png</td>\n",
       "    </tr>\n",
       "    <tr>\n",
       "      <th>2</th>\n",
       "      <td>0</td>\n",
       "      <td>0</td>\n",
       "      <td>False</td>\n",
       "      <td>glyphs/0-2.png</td>\n",
       "    </tr>\n",
       "    <tr>\n",
       "      <th>3</th>\n",
       "      <td>0</td>\n",
       "      <td>0</td>\n",
       "      <td>False</td>\n",
       "      <td>glyphs/0-3.png</td>\n",
       "    </tr>\n",
       "    <tr>\n",
       "      <th>4</th>\n",
       "      <td>0</td>\n",
       "      <td>0</td>\n",
       "      <td>False</td>\n",
       "      <td>glyphs/0-4.png</td>\n",
       "    </tr>\n",
       "  </tbody>\n",
       "</table>\n",
       "</div>"
      ],
      "text/plain": [
       "  label  lbl_code  is_uppercase        filename\n",
       "0     0         0         False  glyphs/0-0.png\n",
       "1     0         0         False  glyphs/0-1.png\n",
       "2     0         0         False  glyphs/0-2.png\n",
       "3     0         0         False  glyphs/0-3.png\n",
       "4     0         0         False  glyphs/0-4.png"
      ]
     },
     "execution_count": 26,
     "metadata": {},
     "output_type": "execute_result"
    }
   ],
   "source": [
    "new_df.head()"
   ]
  }
 ],
 "metadata": {
  "kernelspec": {
   "display_name": "Python 3 (ipykernel)",
   "language": "python",
   "name": "python3"
  },
  "language_info": {
   "codemirror_mode": {
    "name": "ipython",
    "version": 3
   },
   "file_extension": ".py",
   "mimetype": "text/x-python",
   "name": "python",
   "nbconvert_exporter": "python",
   "pygments_lexer": "ipython3",
   "version": "3.9.13"
  }
 },
 "nbformat": 4,
 "nbformat_minor": 5
}
