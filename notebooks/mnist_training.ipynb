{
 "cells": [
  {
   "cell_type": "code",
   "execution_count": 1,
   "id": "29d8f5e0",
   "metadata": {},
   "outputs": [
    {
     "name": "stdout",
     "output_type": "stream",
     "text": [
      "/home/nazar/Projects/ukrainian_handwriting\n",
      "/home/nazar/Projects/ukrainian_handwriting/notebooks\n"
     ]
    }
   ],
   "source": [
    "import numpy as np\n",
    "import matplotlib.pyplot as plt\n",
    "\n",
    "import torch\n",
    "import torch.nn as nn\n",
    "import torch.optim as optim\n",
    "from torch.utils.data import SubsetRandomSampler, DataLoader\n",
    "from torchvision import transforms as tf\n",
    "from torchvision.datasets import MNIST\n",
    "\n",
    "%cd ../\n",
    "from src.models.models import MNISTClassifier\n",
    "%cd notebooks/"
   ]
  },
  {
   "cell_type": "code",
   "execution_count": 34,
   "id": "63a23fac",
   "metadata": {},
   "outputs": [],
   "source": [
    "device = torch.device('cuda:0')"
   ]
  },
  {
   "cell_type": "markdown",
   "id": "0a953caf",
   "metadata": {},
   "source": [
    "# Load train/test/val"
   ]
  },
  {
   "cell_type": "code",
   "execution_count": 91,
   "id": "ec7feb25",
   "metadata": {},
   "outputs": [],
   "source": [
    "MEAN = MNISTClassifier._mean\n",
    "STD = MNISTClassifier._std\n",
    "\n",
    "tfs = tf.Compose([\n",
    "    tf.Grayscale(3),\n",
    "    tf.RandomRotation(45),\n",
    "    tf.ToTensor(),\n",
    "    tf.Normalize(MEAN, STD)\n",
    "])"
   ]
  },
  {
   "cell_type": "code",
   "execution_count": 92,
   "id": "8fa5c43a",
   "metadata": {},
   "outputs": [
    {
     "name": "stdout",
     "output_type": "stream",
     "text": [
      "Number of samples in training data: 60000\n",
      "Number of samples in test data: 10000\n"
     ]
    }
   ],
   "source": [
    "train_data = MNIST('../data/raw/', train=True, transform=tfs)\n",
    "\n",
    "test_data = MNIST('../data/raw/', train=False, transform=tf.Compose([\n",
    "    tf.Grayscale(3), tf.ToTensor(), tf.Normalize(MEAN, STD)]))\n",
    "\n",
    "print('Number of samples in training data:', len(train_data))\n",
    "print('Number of samples in test data:', len(test_data))"
   ]
  },
  {
   "cell_type": "code",
   "execution_count": 93,
   "id": "33394b77",
   "metadata": {},
   "outputs": [],
   "source": [
    "BATCH_SIZE = 64\n",
    "VAL_SIZE = 5000\n",
    "\n",
    "indices = list(range(len(train_data)))\n",
    "np.random.seed(42)\n",
    "np.random.shuffle(indices)\n",
    "train_indices, val_indices = indices[VAL_SIZE:], indices[:VAL_SIZE]\n",
    "\n",
    "train_sampler = SubsetRandomSampler(train_indices)\n",
    "val_sampler = SubsetRandomSampler(val_indices)\n",
    "\n",
    "train_loader = DataLoader(train_data, batch_size=BATCH_SIZE, sampler=train_sampler)\n",
    "val_loader = DataLoader(train_data, batch_size=BATCH_SIZE, sampler=val_sampler)\n",
    "test_loader = DataLoader(test_data)"
   ]
  },
  {
   "cell_type": "markdown",
   "id": "422caab5",
   "metadata": {},
   "source": [
    "# Functions for training"
   ]
  },
  {
   "cell_type": "code",
   "execution_count": 81,
   "id": "da9b35d5",
   "metadata": {},
   "outputs": [],
   "source": [
    "def compute_accuracy(model, loader):\n",
    "    model.eval()\n",
    "    correct_samples = 0\n",
    "    total_samples = 0\n",
    "    for i, (x, y) in enumerate(loader):\n",
    "        x_gpu = x.to(device)\n",
    "        y_gpu = y.to(device)\n",
    "        prediction = torch.argmax(model(x_gpu), 1)\n",
    "        \n",
    "        correct_samples += torch.sum(prediction == y_gpu)\n",
    "        total_samples += y.shape[0]\n",
    "    return float(correct_samples) / total_samples\n",
    "\n",
    "def train_model(model, train_loader, val_loader, optimizer, loss, num_epochs, scheduler=None):\n",
    "    loss_history = []\n",
    "    train_history = []\n",
    "    val_history = []\n",
    "    \n",
    "    for epoch in range(num_epochs):\n",
    "        model.train()\n",
    "        \n",
    "        loss_acum = 0\n",
    "        total_samples = 0\n",
    "        correct_samples = 0\n",
    "        for i, (x, y) in enumerate(train_loader):\n",
    "            x_gpu = x.to(device)\n",
    "            y_gpu = y.to(device)\n",
    "            prediction = model(x_gpu)\n",
    "            loss_value = loss(prediction, y_gpu)\n",
    "            optimizer.zero_grad()\n",
    "            loss_value.backward()\n",
    "            optimizer.step()\n",
    "            \n",
    "            indices = torch.argmax(prediction, 1)\n",
    "            correct_samples += torch.sum(indices == y_gpu)\n",
    "            total_samples += y.shape[0]\n",
    "            loss_acum += loss_value\n",
    "        \n",
    "        average_loss = loss_acum / i\n",
    "        train_accuracy = float(correct_samples) / total_samples\n",
    "        val_accuracy = compute_accuracy(model, val_loader)\n",
    "        if scheduler:\n",
    "            scheduler.step(val_accuracy)\n",
    "        \n",
    "        loss_history.append(float(average_loss))\n",
    "        train_history.append(train_accuracy)\n",
    "        val_history.append(val_accuracy)\n",
    "        \n",
    "        print(f'{epoch + 1}. Loss = {average_loss}; Train accuracy = {train_accuracy}; Val accuracy = {val_accuracy}')\n",
    "    return loss_history, train_history, val_history\n",
    "\n",
    "def plot_history(loss_h, train_h, val_h) -> None:\n",
    "    fig, ax = plt.subplots(2, 1, figsize=(15, 7))\n",
    "    ax[0].set_title('Loss')\n",
    "    ax[0].plot(loss_h)\n",
    "    ax[1].set_title('Train/validation accuracy')\n",
    "    ax[1].plot(train_h, label='Train')\n",
    "    ax[1].plot(val_h, label='Validation')\n",
    "    ax[1].legend(loc='lower right');"
   ]
  },
  {
   "cell_type": "markdown",
   "id": "6d533778",
   "metadata": {},
   "source": [
    "# Model training"
   ]
  },
  {
   "cell_type": "code",
   "execution_count": 99,
   "id": "da94d373",
   "metadata": {},
   "outputs": [],
   "source": [
    "LR = 0.001\n",
    "NUM_EPOCHS = 25\n",
    "REG = 0.001\n",
    "\n",
    "model = MNISTClassifier()\n",
    "model.type(torch.cuda.FloatTensor)\n",
    "model.to(device)\n",
    "\n",
    "loss = nn.CrossEntropyLoss().type(torch.cuda.FloatTensor)\n",
    "optimizer = optim.Adam(model.parameters(), lr=LR, weight_decay=REG)\n",
    "scheduler = optim.lr_scheduler.ReduceLROnPlateau(optimizer, mode='max', patience=3)"
   ]
  },
  {
   "cell_type": "code",
   "execution_count": 100,
   "id": "e40d0f04",
   "metadata": {},
   "outputs": [
    {
     "name": "stdout",
     "output_type": "stream",
     "text": [
      "1. Loss = 0.16795293986797333; Train accuracy = 0.9500909090909091; Val accuracy = 0.973\n",
      "2. Loss = 0.09332962334156036; Train accuracy = 0.9725454545454545; Val accuracy = 0.9742\n",
      "3. Loss = 0.08388546854257584; Train accuracy = 0.9755818181818182; Val accuracy = 0.9744\n",
      "4. Loss = 0.08021202683448792; Train accuracy = 0.9763454545454545; Val accuracy = 0.9786\n",
      "5. Loss = 0.07434315979480743; Train accuracy = 0.9784909090909091; Val accuracy = 0.9788\n",
      "6. Loss = 0.07340040057897568; Train accuracy = 0.9785090909090909; Val accuracy = 0.981\n",
      "7. Loss = 0.07170283794403076; Train accuracy = 0.9788; Val accuracy = 0.9776\n",
      "8. Loss = 0.06835091859102249; Train accuracy = 0.98; Val accuracy = 0.9824\n",
      "9. Loss = 0.06617849320173264; Train accuracy = 0.9813090909090909; Val accuracy = 0.9758\n",
      "10. Loss = 0.0663788914680481; Train accuracy = 0.9806727272727273; Val accuracy = 0.9794\n",
      "11. Loss = 0.06424403190612793; Train accuracy = 0.9818; Val accuracy = 0.9776\n",
      "12. Loss = 0.06409210711717606; Train accuracy = 0.9817636363636364; Val accuracy = 0.981\n",
      "13. Loss = 0.04722132161259651; Train accuracy = 0.9866545454545455; Val accuracy = 0.9888\n",
      "14. Loss = 0.039660803973674774; Train accuracy = 0.9889818181818182; Val accuracy = 0.9876\n",
      "15. Loss = 0.03802115470170975; Train accuracy = 0.9898181818181818; Val accuracy = 0.9886\n",
      "16. Loss = 0.035399362444877625; Train accuracy = 0.9902363636363636; Val accuracy = 0.9898\n",
      "17. Loss = 0.03411496430635452; Train accuracy = 0.9908363636363636; Val accuracy = 0.99\n",
      "18. Loss = 0.034082941710948944; Train accuracy = 0.9913272727272727; Val accuracy = 0.9898\n",
      "19. Loss = 0.034062374383211136; Train accuracy = 0.9907454545454546; Val accuracy = 0.987\n",
      "20. Loss = 0.032810065895318985; Train accuracy = 0.9913818181818181; Val accuracy = 0.9898\n",
      "21. Loss = 0.031945645809173584; Train accuracy = 0.9916545454545455; Val accuracy = 0.9898\n",
      "22. Loss = 0.030097469687461853; Train accuracy = 0.9923818181818181; Val accuracy = 0.9912\n",
      "23. Loss = 0.02913094311952591; Train accuracy = 0.9927272727272727; Val accuracy = 0.9902\n",
      "24. Loss = 0.029555639252066612; Train accuracy = 0.9923636363636363; Val accuracy = 0.9884\n",
      "25. Loss = 0.029401352629065514; Train accuracy = 0.9927818181818182; Val accuracy = 0.9888\n"
     ]
    }
   ],
   "source": [
    "loss_history, train_history, val_history = train_model(model, train_loader, val_loader, optimizer, loss, NUM_EPOCHS,\n",
    "                                                       scheduler)"
   ]
  },
  {
   "cell_type": "code",
   "execution_count": 101,
   "id": "baa1427b",
   "metadata": {},
   "outputs": [
    {
     "data": {
      "image/png": "[encoded data removed]",
      "text/plain": [
       "<Figure size 1080x504 with 2 Axes>"
      ]
     },
     "metadata": {
      "needs_background": "light"
     },
     "output_type": "display_data"
    }
   ],
   "source": [
    "plot_history(loss_history, train_history, val_history)"
   ]
  },
  {
   "cell_type": "code",
   "execution_count": 102,
   "id": "91ee2257",
   "metadata": {},
   "outputs": [],
   "source": [
    "test_acc = compute_accuracy(model, test_loader)"
   ]
  },
  {
   "cell_type": "code",
   "execution_count": 103,
   "id": "c1861473",
   "metadata": {},
   "outputs": [
    {
     "name": "stdout",
     "output_type": "stream",
     "text": [
      "Accuracy on test dataset: 99.39% (0.9939)\n"
     ]
    }
   ],
   "source": [
    "print(f'Accuracy on test dataset: {test_acc:.2%} ({test_acc})')"
   ]
  },
  {
   "cell_type": "code",
   "execution_count": 105,
   "id": "d8860f52",
   "metadata": {},
   "outputs": [],
   "source": [
    "# save model\n",
    "torch.save(model.state_dict(), '../models/mnist_model.pt')"
   ]
  }
 ],
 "metadata": {
  "kernelspec": {
   "display_name": "Python 3 (ipykernel)",
   "language": "python",
   "name": "python3"
  },
  "language_info": {
   "codemirror_mode": {
    "name": "ipython",
    "version": 3
   },
   "file_extension": ".py",
   "mimetype": "text/x-python",
   "name": "python",
   "nbconvert_exporter": "python",
   "pygments_lexer": "ipython3",
   "version": "3.9.13"
  }
 },
 "nbformat": 4,
 "nbformat_minor": 5
}
