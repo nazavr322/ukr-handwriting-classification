{
 "cells": [
  {
   "cell_type": "code",
   "execution_count": 1,
   "id": "144602c7",
   "metadata": {},
   "outputs": [
    {
     "name": "stdout",
     "output_type": "stream",
     "text": [
      "/home/nazar/Projects/ukrainian_handwriting\n",
      "/home/nazar/Projects/ukrainian_handwriting/notebooks\n"
     ]
    }
   ],
   "source": [
    "import torch\n",
    "import torch.nn as nn\n",
    "import torch.optim as optim\n",
    "from torch.utils.data import SubsetRandomSampler, DataLoader\n",
    "from torchvision import transforms as T\n",
    "\n",
    "import numpy as np\n",
    "import matplotlib.pyplot as plt\n",
    "\n",
    "%cd ../\n",
    "from src.data.datasets import HandwritingDataset\n",
    "from src.models import HandwritingClassifier\n",
    "%cd notebooks/\n",
    "\n",
    "%matplotlib inline\n",
    "%load_ext autoreload\n",
    "%autoreload 2"
   ]
  },
  {
   "cell_type": "code",
   "execution_count": 2,
   "id": "e6b3b1a9",
   "metadata": {},
   "outputs": [],
   "source": [
    "device = torch.device(\"cuda:0\")"
   ]
  },
  {
   "cell_type": "markdown",
   "id": "24a26a8c",
   "metadata": {},
   "source": [
    "# Loading train/test/val"
   ]
  },
  {
   "cell_type": "code",
   "execution_count": 3,
   "id": "971d40a2",
   "metadata": {},
   "outputs": [],
   "source": [
    "MEAN = HandwritingClassifier._mean\n",
    "STD = HandwritingClassifier._std"
   ]
  },
  {
   "cell_type": "code",
   "execution_count": 4,
   "id": "5717ddb6",
   "metadata": {},
   "outputs": [],
   "source": [
    "tf = T.Compose([\n",
    "    T.RandomRotation(30),\n",
    "    T.RandomAffine(0, (0.1, 0.1)),\n",
    "    T.ToTensor(),\n",
    "    T.Normalize(mean=MEAN, std=STD)\n",
    "])"
   ]
  },
  {
   "cell_type": "code",
   "execution_count": 5,
   "id": "c9288b74",
   "metadata": {},
   "outputs": [
    {
     "name": "stdout",
     "output_type": "stream",
     "text": [
      "Number of samples in training data: 1281\n",
      "Number of samples in test data: 300\n"
     ]
    }
   ],
   "source": [
    "train_data = HandwritingDataset(\n",
    "    '../data/processed/train_data.csv',\n",
    "    transforms=tf\n",
    ")\n",
    "\n",
    "test_data = HandwritingDataset(\n",
    "    '../data/processed/test_data.csv',\n",
    "    transforms=T.Compose([\n",
    "        T.ToTensor(),\n",
    "        T.Normalize(mean=MEAN, std=STD)\n",
    "    ])\n",
    ")\n",
    "\n",
    "print('Number of samples in training data:', len(train_data))\n",
    "print('Number of samples in test data:', len(test_data))"
   ]
  },
  {
   "cell_type": "code",
   "execution_count": 6,
   "id": "cf7723ef",
   "metadata": {},
   "outputs": [],
   "source": [
    "BATCH_SIZE = 64\n",
    "VAL_SIZE = 100\n",
    "\n",
    "indices = list(range(len(train_data)))\n",
    "np.random.seed(42)\n",
    "np.random.shuffle(indices)\n",
    "train_indices, val_indices = indices[VAL_SIZE:], indices[:VAL_SIZE]\n",
    "\n",
    "train_sampler = SubsetRandomSampler(train_indices)\n",
    "val_sampler = SubsetRandomSampler(val_indices)\n",
    "\n",
    "train_loader = DataLoader(train_data, BATCH_SIZE, sampler=train_sampler)\n",
    "val_loader = DataLoader(train_data, sampler=val_sampler)\n",
    "test_loader = DataLoader(test_data)"
   ]
  },
  {
   "cell_type": "markdown",
   "id": "b7eb1241",
   "metadata": {},
   "source": [
    "# Functions for training"
   ]
  },
  {
   "cell_type": "code",
   "execution_count": 7,
   "id": "d7d4e878",
   "metadata": {},
   "outputs": [],
   "source": [
    "def compute_accuracy(prediction, ground_truth):\n",
    "    correct = torch.sum(prediction == ground_truth).item()\n",
    "    return correct / len(ground_truth)\n",
    "\n",
    "\n",
    "def validate(model, loader):\n",
    "    model.eval()\n",
    "    lbl_acc = 0\n",
    "    is_upp_acc = 0\n",
    "    loss_acum = 0\n",
    "    for i, (x, *y, _) in enumerate(train_loader):\n",
    "        x_gpu = x.to(device)\n",
    "        y_gpu = y.to(device)\n",
    "        \n",
    "        prediction = model(x_gpu)\n",
    "        loss_value = sum(loss(out, targ) for loss, out, targ in zip(losses, prediction, y_gpu))\n",
    "        \n",
    "        loss_acum += loss_value.item()\n",
    "        lbl_acc += compute_accuracy(prediction[0], y_gpu[0])\n",
    "        is_upp_acc += compute_accuracy(prediction[1], y_gpu[1])\n",
    "    return loss_acum / i, lbl_acc / i, is_upp_acc / i  \n",
    "\n",
    "\n",
    "def train_model(model, train_loader, val_loader, optimizer, losses, num_epochs, scheduler=None):\n",
    "    t_loss_history = []\n",
    "    v_loss_history = []\n",
    "    lbl_acc_history = []\n",
    "    is_upp_acc_hist = []\n",
    "    \n",
    "    for epoch in range(num_epochs):\n",
    "        model.train()\n",
    "        \n",
    "        loss_acum = 0\n",
    "        for i, (x, *y, _) in enumerate(train_loader):\n",
    "            x_gpu = x.to(device)\n",
    "            y_gpu = y.to(device)\n",
    "            \n",
    "            prediction = model(x_gpu)\n",
    "            loss_value = sum(loss(out, targ) for loss, out, targ in zip(losses, prediction, y_gpu))\n",
    "            \n",
    "            optimizer.zero_grad()\n",
    "            loss_value.backward()\n",
    "            optimizer.step()\n",
    "            \n",
    "            loss_acum += loss_value.item()\n",
    "        epoch_loss = loss_acum / i\n",
    "        val_loss, lbl_acc, is_upp_acc = validate(model, val_loader)\n",
    "        \n",
    "        if scheduler:\n",
    "            if isinstance(scheduler, optim.lr_scheduler.ReduceLROnPlateau):\n",
    "                scheduler.step(val_loss)\n",
    "            else:\n",
    "                scheduler.step()\n",
    "        \n",
    "        t_loss_history.append()\n",
    "        v_loss_history.append(val_loss)\n",
    "        lbl_acc_history.append(lbl_acc)\n",
    "        is_upp_acc_hist.append(is_upp_acc_hist)\n",
    "        \n",
    "        print(f'{epoch + 1}. Loss = {epoch_loss:.6f}; Val loss = {val_loss:.6f}')\n",
    "        print(f'Label accuracy = {lbl_acc}; Is_upper accuracy = {is_upp_acc}')\n",
    "    return t_loss_history, v_loss_history, lbl_acc_history, is_upp_acc_hist \n",
    "\n",
    "\n",
    "def plot_history(t_loss_h, v_loss_h, lbl_acc_h, is_upp_acc_h):\n",
    "    fig, ax = plt.subplots(2, 1, figsize=(15, 7))\n",
    "    ax[0].set_title('Train/validation Loss')\n",
    "    ax[0].plot(t_loss_h, label='Train')\n",
    "    ax[0].plot(v_loss_h, label='Validation')\n",
    "    ax[0].legend()\n",
    "    ax[1].set_title('Accuracy for 2 outputs')\n",
    "    ax[1].plot(lbl_acc_h, label='Label')\n",
    "    ax[1].plot(is_upp_acc_h, label='Is uppercase')\n",
    "    ax[1].legend();"
   ]
  },
  {
   "cell_type": "markdown",
   "id": "8ce91f8e",
   "metadata": {},
   "source": [
    "# Model training"
   ]
  },
  {
   "cell_type": "code",
   "execution_count": null,
   "id": "d262bf23",
   "metadata": {},
   "outputs": [],
   "source": []
  }
 ],
 "metadata": {
  "kernelspec": {
   "display_name": "Python 3 (ipykernel)",
   "language": "python",
   "name": "python3"
  },
  "language_info": {
   "codemirror_mode": {
    "name": "ipython",
    "version": 3
   },
   "file_extension": ".py",
   "mimetype": "text/x-python",
   "name": "python",
   "nbconvert_exporter": "python",
   "pygments_lexer": "ipython3",
   "version": "3.9.13"
  }
 },
 "nbformat": 4,
 "nbformat_minor": 5
}
